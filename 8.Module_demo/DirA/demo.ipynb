{
 "cells": [
  {
   "cell_type": "code",
   "execution_count": 1,
   "id": "27f5af52-26de-4d91-8ebd-aae7ee00970f",
   "metadata": {},
   "outputs": [],
   "source": [
    "import example"
   ]
  },
  {
   "cell_type": "code",
   "execution_count": 2,
   "id": "dd1811f1-d3b6-45fe-9502-9425998e03f2",
   "metadata": {},
   "outputs": [
    {
     "data": {
      "text/plain": [
       "'Hello World'"
      ]
     },
     "execution_count": 2,
     "metadata": {},
     "output_type": "execute_result"
    }
   ],
   "source": [
    "example.hello()"
   ]
  },
  {
   "cell_type": "code",
   "execution_count": 3,
   "id": "96dd71f1-85d4-410d-96b2-f7f486a51d49",
   "metadata": {},
   "outputs": [
    {
     "data": {
      "text/plain": [
       "['/Users/nachikethpro/Desktop/author-repo/genai-llmops-mlops/8.Module_demo/DirA',\n",
       " '/opt/anaconda3/lib/python311.zip',\n",
       " '/opt/anaconda3/lib/python3.11',\n",
       " '/opt/anaconda3/lib/python3.11/lib-dynload',\n",
       " '',\n",
       " '/opt/anaconda3/lib/python3.11/site-packages',\n",
       " '/opt/anaconda3/lib/python3.11/site-packages/aeosa']"
      ]
     },
     "execution_count": 3,
     "metadata": {},
     "output_type": "execute_result"
    }
   ],
   "source": [
    "import sys\n",
    "sys.path"
   ]
  },
  {
   "cell_type": "code",
   "execution_count": 5,
   "id": "2d2d0b8b-414c-43c1-bad5-de5bfd91786c",
   "metadata": {},
   "outputs": [
    {
     "ename": "ModuleNotFoundError",
     "evalue": "No module named 'example2'",
     "output_type": "error",
     "traceback": [
      "\u001b[0;31m---------------------------------------------------------------------------\u001b[0m",
      "\u001b[0;31mModuleNotFoundError\u001b[0m                       Traceback (most recent call last)",
      "Cell \u001b[0;32mIn[5], line 1\u001b[0m\n\u001b[0;32m----> 1\u001b[0m \u001b[38;5;28;01mimport\u001b[39;00m \u001b[38;5;21;01mexample2\u001b[39;00m\n",
      "\u001b[0;31mModuleNotFoundError\u001b[0m: No module named 'example2'"
     ]
    }
   ],
   "source": [
    "import example2"
   ]
  },
  {
   "cell_type": "code",
   "execution_count": 8,
   "id": "3a59f682-cb9e-4b54-ab5d-2d6294575647",
   "metadata": {},
   "outputs": [],
   "source": [
    "sys.path.append('/Users/nachikethpro/Desktop/author-repo/genai-llmops-mlops/8.Module_demo/DirB')"
   ]
  },
  {
   "cell_type": "code",
   "execution_count": 9,
   "id": "3179a52b-9190-4ef2-95d0-75231cc29c15",
   "metadata": {},
   "outputs": [
    {
     "data": {
      "text/plain": [
       "['/Users/nachikethpro/Desktop/author-repo/genai-llmops-mlops/8.Module_demo/DirA',\n",
       " '/opt/anaconda3/lib/python311.zip',\n",
       " '/opt/anaconda3/lib/python3.11',\n",
       " '/opt/anaconda3/lib/python3.11/lib-dynload',\n",
       " '',\n",
       " '/opt/anaconda3/lib/python3.11/site-packages',\n",
       " '/opt/anaconda3/lib/python3.11/site-packages/aeosa',\n",
       " ['/Users/nachikethpro/Desktop/author-repo/genai-llmops-mlops/8.Module_demo/DirB'],\n",
       " '/Users/nachikethpro/Desktop/author-repo/genai-llmops-mlops/8.Module_demo/DirB']"
      ]
     },
     "execution_count": 9,
     "metadata": {},
     "output_type": "execute_result"
    }
   ],
   "source": [
    "sys.path"
   ]
  },
  {
   "cell_type": "code",
   "execution_count": 10,
   "id": "2b034ddd-581f-4da5-b9f9-9dd946af9076",
   "metadata": {},
   "outputs": [],
   "source": [
    "import example2"
   ]
  },
  {
   "cell_type": "code",
   "execution_count": null,
   "id": "c590acc9-57d8-4a54-bbe4-9170892cda42",
   "metadata": {},
   "outputs": [],
   "source": []
  }
 ],
 "metadata": {
  "kernelspec": {
   "display_name": "Python 3 (ipykernel)",
   "language": "python",
   "name": "python3"
  },
  "language_info": {
   "codemirror_mode": {
    "name": "ipython",
    "version": 3
   },
   "file_extension": ".py",
   "mimetype": "text/x-python",
   "name": "python",
   "nbconvert_exporter": "python",
   "pygments_lexer": "ipython3",
   "version": "3.11.7"
  }
 },
 "nbformat": 4,
 "nbformat_minor": 5
}
