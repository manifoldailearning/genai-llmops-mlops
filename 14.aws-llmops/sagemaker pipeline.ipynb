{
 "cells": [
  {
   "cell_type": "code",
   "execution_count": 1,
   "id": "14ad48a0-d03d-43b8-ab6a-5baa693cecff",
   "metadata": {},
   "outputs": [],
   "source": [
    "import boto3\n",
    "import sagemaker\n",
    "import sagemaker.session \n",
    "from sagemaker.workflow.pipeline_context import PipelineSession\n",
    "\n",
    "region = boto3.Session().region_name\n",
    "sagemaker_session = sagemaker.session.Session() \n",
    "role = sagemaker.get_execution_role()\n",
    "default_bucket = sagemaker_session.default_bucket() \n",
    "pipeline_session = PipelineSession()\n",
    "model_package_group_name = \"AbalonePackageGroupDemo\""
   ]
  },
  {
   "cell_type": "code",
   "execution_count": 2,
   "id": "ed3cd329-b890-4c6e-b5d7-23f467eaf847",
   "metadata": {},
   "outputs": [
    {
     "data": {
      "text/plain": [
       "'arn:aws:iam::866824485776:role/service-role/AmazonSageMaker-ExecutionRole-20240725T121088'"
      ]
     },
     "execution_count": 2,
     "metadata": {},
     "output_type": "execute_result"
    }
   ],
   "source": [
    "role"
   ]
  },
  {
   "cell_type": "code",
   "execution_count": 3,
   "id": "ede9b431-2713-480f-abc2-c4975c2712c3",
   "metadata": {},
   "outputs": [],
   "source": [
    "# Pipeline\n",
    "# Preprocessing\n",
    "# Training\n",
    "# evaluation\n",
    "# Conditional Evaluation\n",
    "# Model registration\n"
   ]
  },
  {
   "cell_type": "markdown",
   "id": "0dac3f20-eed9-448e-bb1f-4bdee72682a8",
   "metadata": {},
   "source": [
    "# Features of dataset\n",
    "```\n",
    "length – The longest shell measurement of the abalone.\n",
    "\n",
    "diameter – The diameter of the abalone perpendicular to its length.\n",
    "\n",
    "height – The height of the abalone with meat in the shell.\n",
    "\n",
    "whole_weight – The weight of the whole abalone.\n",
    "\n",
    "shucked_weight – The weight of the meat removed from the abalone.\n",
    "\n",
    "viscera_weight – The weight of the abalone viscera after bleeding.\n",
    "\n",
    "shell_weight – The weight of the abalone shell after meat removal and drying.\n",
    "\n",
    "sex – The sex of the abalone. One of 'M', 'F', or 'I', where 'I' is an infant abalone.\n",
    "\n",
    "rings – The number of rings in the abalone shell.```"
   ]
  },
  {
   "cell_type": "code",
   "execution_count": 4,
   "id": "bb17109d-7471-41a9-90da-8df574374b56",
   "metadata": {},
   "outputs": [],
   "source": [
    "# Download the dataset\n",
    "\n",
    "!mkdir -p data"
   ]
  },
  {
   "cell_type": "code",
   "execution_count": 6,
   "id": "1ec4322f-c36c-4301-9129-ea4a74d764dc",
   "metadata": {},
   "outputs": [],
   "source": [
    "local_path = \"data/abalone-dataset.csv\" \n",
    "\n",
    "s3 = boto3.resource(\"s3\") \n",
    "s3.Bucket(f\"sagemaker-servicecatalog-seedcode-{region}\").download_file(\n",
    "    \"dataset/abalone-dataset.csv\",\n",
    "    local_path)"
   ]
  },
  {
   "cell_type": "code",
   "execution_count": 11,
   "id": "a448827d-d9c5-454f-8e3f-b40bb3a3cf80",
   "metadata": {},
   "outputs": [
    {
     "name": "stdout",
     "output_type": "stream",
     "text": [
      "s3://sagemaker-us-east-1-866824485776/abalone/abalone-dataset-batch.csv\n"
     ]
    }
   ],
   "source": [
    "base_uri = f\"s3://{default_bucket}/abalone\"\n",
    "input_data_uri = sagemaker.s3.S3Uploader.upload(\n",
    "    local_path = local_path,\n",
    "    desired_s3_uri=base_uri)\n",
    "print(input_data_uri) "
   ]
  },
  {
   "cell_type": "code",
   "execution_count": 12,
   "id": "88b5909d-5f49-4225-b964-2ad867f49707",
   "metadata": {},
   "outputs": [
    {
     "name": "stdout",
     "output_type": "stream",
     "text": [
      "s3://sagemaker-us-east-1-866824485776/abalone/abalone-dataset-batch.csv\n"
     ]
    }
   ],
   "source": [
    "local_path = \"data/abalone-dataset-batch.csv\" \n",
    "\n",
    "s3 = boto3.resource(\"s3\") \n",
    "s3.Bucket(f\"sagemaker-servicecatalog-seedcode-{region}\").download_file(\n",
    "    \"dataset/abalone-dataset-batch\",\n",
    "    local_path)\n",
    "\n",
    "base_uri = f\"s3://{default_bucket}/abalone\"\n",
    "batch_data_uri = sagemaker.s3.S3Uploader.upload(\n",
    "    local_path = local_path,\n",
    "    desired_s3_uri=base_uri)\n",
    "print(input_data_uri) "
   ]
  },
  {
   "cell_type": "code",
   "execution_count": 13,
   "id": "08cbfecd-9521-4321-a3d2-ec54f90922a3",
   "metadata": {},
   "outputs": [
    {
     "name": "stdout",
     "output_type": "stream",
     "text": [
      "s3://sagemaker-us-east-1-866824485776/abalone/abalone-dataset-batch.csv\n"
     ]
    }
   ],
   "source": [
    "print(batch_data_uri)"
   ]
  },
  {
   "cell_type": "markdown",
   "id": "a06cbef4-470f-48cd-a953-2793eb725108",
   "metadata": {},
   "source": [
    "# Define Pipeline Parameters"
   ]
  },
  {
   "cell_type": "code",
   "execution_count": 10,
   "id": "578d2564-0585-4b65-a987-f98369911017",
   "metadata": {},
   "outputs": [],
   "source": [
    "from sagemaker.workflow.parameters import ParameterInteger,ParameterString"
   ]
  },
  {
   "cell_type": "code",
   "execution_count": 14,
   "id": "d94dbebc-0563-42dc-bc50-b070175f7b1f",
   "metadata": {},
   "outputs": [],
   "source": [
    "processing_instance_count = ParameterInteger(\n",
    "    name=\"ProcessingInstanceCount\",default_value=1)\n",
    "\n",
    "model_approval_status = ParameterString(\n",
    "    name=\"ModelApprovalStatus\",default_value=\"PendingManualApproval\")\n",
    "\n",
    "input_data = ParameterString(\n",
    "    name=\"InputData\",default_value=input_data_uri)\n",
    "\n",
    "batch_data = ParameterString(\n",
    "    name=\"BatchData\",default_value=batch_data_uri)"
   ]
  },
  {
   "cell_type": "code",
   "execution_count": 15,
   "id": "c4c7e2a8-e562-4f5d-9c0e-694ed088b476",
   "metadata": {},
   "outputs": [],
   "source": [
    "!mkdir abalone"
   ]
  },
  {
   "cell_type": "code",
   "execution_count": 16,
   "id": "ae725893-8208-4580-960f-cf2ff01ec59b",
   "metadata": {},
   "outputs": [
    {
     "name": "stdout",
     "output_type": "stream",
     "text": [
      "Writing abalone/preprocessing.py\n"
     ]
    }
   ],
   "source": [
    "%%writefile abalone/preprocessing.py\n",
    "import argparse\n",
    "import os\n",
    "import requests\n",
    "import tempfile\n",
    "import numpy as np\n",
    "import pandas as pd\n",
    "\n",
    "\n",
    "from sklearn.compose import ColumnTransformer\n",
    "from sklearn.impute import SimpleImputer\n",
    "from sklearn.pipeline import Pipeline\n",
    "from sklearn.preprocessing import StandardScaler, OneHotEncoder\n",
    "\n",
    "\n",
    "# Because this is a headerless CSV file, specify the column names here.\n",
    "feature_columns_names = [\n",
    "    \"sex\",\n",
    "    \"length\",\n",
    "    \"diameter\",\n",
    "    \"height\",\n",
    "    \"whole_weight\",\n",
    "    \"shucked_weight\",\n",
    "    \"viscera_weight\",\n",
    "    \"shell_weight\",\n",
    "]\n",
    "label_column = \"rings\"\n",
    "\n",
    "feature_columns_dtype = {\n",
    "    \"sex\": str,\n",
    "    \"length\": np.float64,\n",
    "    \"diameter\": np.float64,\n",
    "    \"height\": np.float64,\n",
    "    \"whole_weight\": np.float64,\n",
    "    \"shucked_weight\": np.float64,\n",
    "    \"viscera_weight\": np.float64,\n",
    "    \"shell_weight\": np.float64\n",
    "}\n",
    "label_column_dtype = {\"rings\": np.float64}\n",
    "\n",
    "\n",
    "def merge_two_dicts(x, y):\n",
    "    z = x.copy()\n",
    "    z.update(y)\n",
    "    return z\n",
    "\n",
    "\n",
    "if __name__ == \"__main__\":\n",
    "    base_dir = \"/opt/ml/processing\"\n",
    "\n",
    "    df = pd.read_csv(\n",
    "        f\"{base_dir}/input/abalone-dataset.csv\",\n",
    "        header=None, \n",
    "        names=feature_columns_names + [label_column],\n",
    "        dtype=merge_two_dicts(feature_columns_dtype, label_column_dtype)\n",
    "    )\n",
    "    numeric_features = list(feature_columns_names)\n",
    "    numeric_features.remove(\"sex\")\n",
    "    numeric_transformer = Pipeline(\n",
    "        steps=[\n",
    "            (\"imputer\", SimpleImputer(strategy=\"median\")),\n",
    "            (\"scaler\", StandardScaler())\n",
    "        ]\n",
    "    )\n",
    "\n",
    "    categorical_features = [\"sex\"]\n",
    "    categorical_transformer = Pipeline(\n",
    "        steps=[\n",
    "            (\"imputer\", SimpleImputer(strategy=\"constant\", fill_value=\"missing\")),\n",
    "            (\"onehot\", OneHotEncoder(handle_unknown=\"ignore\"))\n",
    "        ]\n",
    "    )\n",
    "\n",
    "    preprocess = ColumnTransformer(\n",
    "        transformers=[\n",
    "            (\"num\", numeric_transformer, numeric_features),\n",
    "            (\"cat\", categorical_transformer, categorical_features)\n",
    "        ]\n",
    "    )\n",
    "    \n",
    "    y = df.pop(\"rings\")\n",
    "    X_pre = preprocess.fit_transform(df)\n",
    "    y_pre = y.to_numpy().reshape(len(y), 1)\n",
    "    \n",
    "    X = np.concatenate((y_pre, X_pre), axis=1)\n",
    "    \n",
    "    np.random.shuffle(X)\n",
    "    train, validation, test = np.split(X, [int(.7*len(X)), int(.85*len(X))])\n",
    "\n",
    "    \n",
    "    pd.DataFrame(train).to_csv(f\"{base_dir}/train/train.csv\", header=False, index=False)\n",
    "    pd.DataFrame(validation).to_csv(f\"{base_dir}/validation/validation.csv\", header=False, index=False)\n",
    "    pd.DataFrame(test).to_csv(f\"{base_dir}/test/test.csv\", header=False, index=False)"
   ]
  },
  {
   "cell_type": "code",
   "execution_count": 17,
   "id": "985fa76b-9e30-475d-9ee8-045def4079e7",
   "metadata": {},
   "outputs": [],
   "source": [
    "import numpy as np \n",
    "X = np.random.randn(100,10) "
   ]
  },
  {
   "cell_type": "code",
   "execution_count": 18,
   "id": "95dc14d1-d312-4dae-ae7c-512debf71211",
   "metadata": {},
   "outputs": [],
   "source": [
    "train, validation, test = np.split(X, [int(.7*len(X)), int(.85*len(X))])"
   ]
  },
  {
   "cell_type": "code",
   "execution_count": 19,
   "id": "be38bc9f-6ef3-4063-a99e-44cf49b53f2d",
   "metadata": {},
   "outputs": [
    {
     "data": {
      "text/plain": [
       "((70, 10), (15, 10), (15, 10))"
      ]
     },
     "execution_count": 19,
     "metadata": {},
     "output_type": "execute_result"
    }
   ],
   "source": [
    "train.shape, validation.shape, test.shape"
   ]
  },
  {
   "cell_type": "code",
   "execution_count": 20,
   "id": "36d559ab-611b-4bec-af5d-55abafb4305c",
   "metadata": {},
   "outputs": [],
   "source": [
    "train, validation, test = np.split(X, [int(.7*len(X)), int(.80*len(X))])"
   ]
  },
  {
   "cell_type": "code",
   "execution_count": 21,
   "id": "9e1acd15-db0e-4a78-b844-fd9c12acbaae",
   "metadata": {},
   "outputs": [
    {
     "data": {
      "text/plain": [
       "((70, 10), (10, 10), (20, 10))"
      ]
     },
     "execution_count": 21,
     "metadata": {},
     "output_type": "execute_result"
    }
   ],
   "source": [
    "train.shape, validation.shape, test.shape"
   ]
  },
  {
   "cell_type": "code",
   "execution_count": 22,
   "id": "2eaca16f-f921-4853-a676-82dc6621f95f",
   "metadata": {},
   "outputs": [],
   "source": [
    "from sagemaker.sklearn.processing import SKLearnProcessor\n",
    "\n",
    "sklearn_processor = SKLearnProcessor(\n",
    "    framework_version=\"0.23-1\",\n",
    "    instance_type=\"ml.m5.xlarge\",\n",
    "    instance_count=processing_instance_count,\n",
    "    base_job_name=\"sklearn-pipeline-abalone\",\n",
    "    sagemaker_session=pipeline_session, \n",
    "    role=role)"
   ]
  },
  {
   "cell_type": "code",
   "execution_count": 23,
   "id": "af45c781-726a-4463-8f66-d35a9779bd40",
   "metadata": {},
   "outputs": [
    {
     "name": "stderr",
     "output_type": "stream",
     "text": [
      "/opt/conda/lib/python3.10/site-packages/sagemaker/workflow/pipeline_context.py:332: UserWarning: Running within a PipelineSession, there will be No Wait, No Logs, and No Job being started.\n",
      "  warnings.warn(\n"
     ]
    }
   ],
   "source": [
    "from sagemaker.processing import ProcessingInput, ProcessingOutput \n",
    "from sagemaker.workflow.steps import ProcessingStep\n",
    "\n",
    "processor_args = sklearn_processor.run(\n",
    "    inputs = [ProcessingInput(source=input_data, destination = \"/opt/ml/processing/input\")],\n",
    "    outputs = [\n",
    "        ProcessingOutput(output_name=\"train\", source=\"/opt/ml/processing/train\"),\n",
    "        ProcessingOutput(output_name=\"validation\", source=\"/opt/ml/processing/validation\"),\n",
    "        ProcessingOutput(output_name=\"test\", source=\"/opt/ml/processing/test\")\n",
    "    ],\n",
    "    code=\"abalone/preprocessing.py\")\n",
    "\n",
    "step_process = ProcessingStep(\n",
    "    name=\"AbaloneProcessing\",\n",
    "    step_args=processor_args)"
   ]
  },
  {
   "cell_type": "code",
   "execution_count": 24,
   "id": "b06a2827-e0eb-47cb-a722-d3e609146c29",
   "metadata": {},
   "outputs": [],
   "source": [
    "# Define the Training step\n",
    "model_path = f\"s3://{default_bucket}/AbaloneTrain\""
   ]
  },
  {
   "cell_type": "code",
   "execution_count": 28,
   "id": "953c79d7-8b53-417e-a822-54e34cf642a8",
   "metadata": {},
   "outputs": [],
   "source": [
    "from sagemaker.estimator import Estimator \n",
    "\n",
    "image_uri = sagemaker.image_uris.retrieve(framework=\"xgboost\", region=region, \n",
    "                                          version=\"latest\", py_version=\"py310\", \n",
    "                                          instance_type= \"ml.m5.xlarge\")\n",
    "\n",
    "xgb_train = Estimator(image_uri=image_uri,\n",
    "                      instance_type=\"ml.m5.xlarge\",\n",
    "                      instance_count=1, \n",
    "                      output_path = model_path, \n",
    "                      sagemaker_session=pipeline_session,\n",
    "                      role=role )\n",
    "\n",
    "xgb_train.set_hyperparameters(\n",
    "    objective=\"reg:linear\",\n",
    "    num_round=50,\n",
    "    max_depth=5,\n",
    "    eta=0.2,\n",
    "    gamma=4,\n",
    "    min_child_weight=6,\n",
    "    subsample=0.7,\n",
    "    silent=0\n",
    ")"
   ]
  },
  {
   "cell_type": "code",
   "execution_count": 29,
   "id": "07ba7d47-d096-4091-8ee5-32691703114c",
   "metadata": {},
   "outputs": [
    {
     "name": "stderr",
     "output_type": "stream",
     "text": [
      "/opt/conda/lib/python3.10/site-packages/sagemaker/workflow/pipeline_context.py:332: UserWarning: Running within a PipelineSession, there will be No Wait, No Logs, and No Job being started.\n",
      "  warnings.warn(\n"
     ]
    }
   ],
   "source": [
    "from sagemaker.inputs import TrainingInput \n",
    "from sagemaker.workflow.steps import TrainingStep\n",
    "\n",
    "train_args = xgb_train.fit(\n",
    "    inputs = {\n",
    "        \"train\": TrainingInput(\n",
    "            s3_data=step_process.properties.ProcessingOutputConfig.Outputs[\"train\"].S3Output.S3Uri,\n",
    "            content_type=\"text/csv\"),\n",
    "        \"validation\": TrainingInput(\n",
    "            s3_data=step_process.properties.ProcessingOutputConfig.Outputs[\"validation\"].S3Output.S3Uri,\n",
    "            content_type=\"text/csv\"),\n",
    "    })\n",
    "\n",
    "step_train = TrainingStep(\n",
    "    name=\"AbaloneDemoTrain\",\n",
    "    step_args=train_args)"
   ]
  },
  {
   "cell_type": "code",
   "execution_count": 30,
   "id": "35942c94-59c0-476e-851c-64120ab2072f",
   "metadata": {},
   "outputs": [
    {
     "name": "stdout",
     "output_type": "stream",
     "text": [
      "Writing abalone/evaluation.py\n"
     ]
    }
   ],
   "source": [
    "%%writefile abalone/evaluation.py\n",
    "import json\n",
    "import pathlib\n",
    "import pickle\n",
    "import tarfile\n",
    "import joblib\n",
    "import numpy as np\n",
    "import pandas as pd\n",
    "import xgboost\n",
    "\n",
    "\n",
    "from sklearn.metrics import mean_squared_error\n",
    "\n",
    "\n",
    "if __name__ == \"__main__\":\n",
    "    model_path = f\"/opt/ml/processing/model/model.tar.gz\"\n",
    "    with tarfile.open(model_path) as tar:\n",
    "        tar.extractall(path=\".\")\n",
    "    \n",
    "    model = pickle.load(open(\"xgboost-model\", \"rb\"))\n",
    "\n",
    "    test_path = \"/opt/ml/processing/test/test.csv\"\n",
    "    df = pd.read_csv(test_path, header=None)\n",
    "    \n",
    "    y_test = df.iloc[:, 0].to_numpy()\n",
    "    df.drop(df.columns[0], axis=1, inplace=True)\n",
    "    \n",
    "    X_test = xgboost.DMatrix(df.values)\n",
    "    \n",
    "    predictions = model.predict(X_test)\n",
    "\n",
    "    mse = mean_squared_error(y_test, predictions)\n",
    "    std = np.std(y_test - predictions)\n",
    "    report_dict = {\n",
    "        \"regression_metrics\": {\n",
    "            \"mse\": {\n",
    "                \"value\": mse,\n",
    "                \"standard_deviation\": std\n",
    "            },\n",
    "        },\n",
    "    }\n",
    "\n",
    "    output_dir = \"/opt/ml/processing/evaluation\"\n",
    "    pathlib.Path(output_dir).mkdir(parents=True, exist_ok=True)\n",
    "    \n",
    "    evaluation_path = f\"{output_dir}/evaluation.json\"\n",
    "    with open(evaluation_path, \"w\") as f:\n",
    "        f.write(json.dumps(report_dict))"
   ]
  },
  {
   "cell_type": "code",
   "execution_count": 31,
   "id": "7cd2e8de-0f0f-46ca-b211-b3bfc064c09a",
   "metadata": {},
   "outputs": [],
   "source": [
    "from sagemaker.processing import ScriptProcessor\n",
    "\n",
    "\n",
    "script_eval = ScriptProcessor(\n",
    "    image_uri=image_uri,\n",
    "    command=[\"python3\"],\n",
    "    instance_type=\"ml.m5.xlarge\",\n",
    "    instance_count=1,\n",
    "    base_job_name=\"script-abalone-eval\",\n",
    "    sagemaker_session=pipeline_session,\n",
    "    role=role,\n",
    ")\n"
   ]
  },
  {
   "cell_type": "code",
   "execution_count": 32,
   "id": "9d98c929-5d03-4bd4-b141-267d6b85224c",
   "metadata": {},
   "outputs": [],
   "source": [
    "from sagemaker.workflow.properties import PropertyFile\n",
    "\n",
    "\n",
    "evaluation_report = PropertyFile(\n",
    "    name=\"EvaluationReport\",\n",
    "    output_name=\"evaluation\",\n",
    "    path=\"evaluation.json\"\n",
    ")\n",
    "\n",
    "eval_args = script_eval.run(\n",
    "        inputs=[\n",
    "        ProcessingInput(\n",
    "            source=step_train.properties.ModelArtifacts.S3ModelArtifacts,\n",
    "            destination=\"/opt/ml/processing/model\"\n",
    "        ),\n",
    "        ProcessingInput(\n",
    "            source=step_process.properties.ProcessingOutputConfig.Outputs[\n",
    "                \"test\"\n",
    "            ].S3Output.S3Uri,\n",
    "            destination=\"/opt/ml/processing/test\"\n",
    "        )\n",
    "    ],\n",
    "    outputs=[\n",
    "        ProcessingOutput(output_name=\"evaluation\", source=\"/opt/ml/processing/evaluation\"),\n",
    "    ],\n",
    "    code=\"abalone/evaluation.py\",\n",
    ")\n",
    "\n",
    "step_eval = ProcessingStep(\n",
    "    name=\"AbaloneEval\",\n",
    "    step_args=eval_args,\n",
    "    property_files=[evaluation_report],\n",
    ")"
   ]
  },
  {
   "cell_type": "code",
   "execution_count": null,
   "id": "1df199d8-f03b-4cb1-a86a-87dcab65cb81",
   "metadata": {},
   "outputs": [],
   "source": []
  },
  {
   "cell_type": "code",
   "execution_count": null,
   "id": "9fa3f0c1-b54a-4862-b99d-e86ea84a5f7c",
   "metadata": {},
   "outputs": [],
   "source": []
  },
  {
   "cell_type": "code",
   "execution_count": null,
   "id": "133b7556-e060-462f-a911-11fb3ca4321f",
   "metadata": {},
   "outputs": [],
   "source": []
  }
 ],
 "metadata": {
  "kernelspec": {
   "display_name": "Python 3 (ipykernel)",
   "language": "python",
   "name": "python3"
  },
  "language_info": {
   "codemirror_mode": {
    "name": "ipython",
    "version": 3
   },
   "file_extension": ".py",
   "mimetype": "text/x-python",
   "name": "python",
   "nbconvert_exporter": "python",
   "pygments_lexer": "ipython3",
   "version": "3.10.14"
  }
 },
 "nbformat": 4,
 "nbformat_minor": 5
}
